{
 "cells": [
  {
   "cell_type": "markdown",
   "metadata": {},
   "source": [
    "# Agent file debug"
   ]
  },
  {
   "cell_type": "code",
   "execution_count": 1,
   "metadata": {},
   "outputs": [
    {
     "name": "stderr",
     "output_type": "stream",
     "text": [
      "C:\\Users\\meatrobot\\miniconda3\\envs\\TF\\lib\\site-packages\\gym\\logger.py:30: UserWarning: \u001b[33mWARN: Box bound precision lowered by casting to float32\u001b[0m\n",
      "  warnings.warn(colorize('%s: %s'%('WARN', msg % args), 'yellow'))\n"
     ]
    }
   ],
   "source": [
    "from Utils.memory import Memory\n",
    "from Nets_batch.Critic import Critic\n",
    "from Nets_batch.P_actor import ParameterAgent\n",
    "from Env.DC_gym_reward import DC_gym_reward as DC_Gym\n",
    "from Env.STANDARD_CONFIG import CONFIG\n",
    "import numpy as np\n",
    "from tensorflow.keras.models import clone_model\n",
    "import tensorflow as tf\n",
    "physical_devices = tf.config.list_physical_devices('GPU')\n",
    "tf.config.experimental.set_memory_growth(physical_devices[0], True)\n",
    "standard_args = CONFIG(1).get_config()\n",
    "env=DC_Gym(*standard_args)"
   ]
  },
  {
   "cell_type": "code",
   "execution_count": 3,
   "metadata": {},
   "outputs": [],
   "source": [
    "model, opt = ParameterAgent(0.1, env.continuous_action_space.shape[0], env.observation_space.shape).build_network()"
   ]
  },
  {
   "cell_type": "code",
   "execution_count": 4,
   "metadata": {
    "scrolled": true
   },
   "outputs": [
    {
     "name": "stdout",
     "output_type": "stream",
     "text": [
      "Model: \"model\"\n",
      "_________________________________________________________________\n",
      "Layer (type)                 Output Shape              Param #   \n",
      "=================================================================\n",
      "input_state (InputLayer)     [(None, 1, 8)]            0         \n",
      "_________________________________________________________________\n",
      "dense1 (Dense)               (None, 1, 512)            4608      \n",
      "_________________________________________________________________\n",
      "batch_normalization (BatchNo (None, 1, 512)            2048      \n",
      "_________________________________________________________________\n",
      "dense2 (Dense)               (None, 1, 512)            262656    \n",
      "_________________________________________________________________\n",
      "batch_normalization_1 (Batch (None, 1, 512)            2048      \n",
      "_________________________________________________________________\n",
      "dense3 (Dense)               (None, 1, 512)            262656    \n",
      "_________________________________________________________________\n",
      "batch_normalization_2 (Batch (None, 1, 512)            2048      \n",
      "_________________________________________________________________\n",
      "output (Dense)               (None, 1, 4)              2052      \n",
      "=================================================================\n",
      "Total params: 538,116\n",
      "Trainable params: 535,044\n",
      "Non-trainable params: 3,072\n",
      "_________________________________________________________________\n"
     ]
    }
   ],
   "source": [
    "model.summary()"
   ]
  },
  {
   "cell_type": "markdown",
   "metadata": {},
   "source": [
    "# Runtime File"
   ]
  },
  {
   "cell_type": "code",
   "execution_count": null,
   "metadata": {},
   "outputs": [],
   "source": [
    "# runtime per episode (9 min / 5 episode average) is less than 2 (1.8 min) min per episode\n",
    "# runtime per episode (5.5 min / 5 episode average) almost 1 min per episode\n",
    "# tensorboard --logdir logs\n",
    "from Workers.Agent_target import Agent\n",
    "import matplotlib.pyplot as plt\n",
    "import numpy as np\n",
    "import tensorflow as tf\n",
    "import datetime\n",
    "import time\n",
    "\n",
    "current_time = datetime.datetime.now().strftime(\"%Y%m%d-%H%M%S\")\n",
    "log_dir = 'BatchMemory_Agent/' + 'logs/' + \" with targets\" + current_time\n",
    "summary_writer = tf.summary.create_file_writer(log_dir)\n",
    "\n",
    "Agent = Agent(summary_writer=summary_writer, total_episodes=10, mem_length=10, batch_size=5)"
   ]
  }
 ],
 "metadata": {
  "kernelspec": {
   "display_name": "Python 3",
   "language": "python",
   "name": "python3"
  },
  "language_info": {
   "codemirror_mode": {
    "name": "ipython",
    "version": 3
   },
   "file_extension": ".py",
   "mimetype": "text/x-python",
   "name": "python",
   "nbconvert_exporter": "python",
   "pygments_lexer": "ipython3",
   "version": "3.7.7"
  }
 },
 "nbformat": 4,
 "nbformat_minor": 4
}
